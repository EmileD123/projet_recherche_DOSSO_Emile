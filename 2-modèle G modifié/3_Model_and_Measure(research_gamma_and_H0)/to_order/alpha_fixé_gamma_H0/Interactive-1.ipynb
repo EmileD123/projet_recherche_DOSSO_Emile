{
 "cells": [
  {
   "cell_type": "markdown",
   "metadata": {
    "isInteractiveWindowMessageCell": true
   },
   "source": [
    "Connected to Python 3.10.11"
   ]
  }
 ],
 "metadata": {
  "kernelspec": {
   "display_name": "Python 3",
   "language": "python",
   "name": "python3"
  },
  "language_info": {
   "name": "python",
   "version": "3.10.11"
  }
 },
 "nbformat": 4,
 "nbformat_minor": 2
}
